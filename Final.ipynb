{
 "cells": [
  {
   "cell_type": "markdown",
   "id": "f02bb5de",
   "metadata": {},
   "source": [
    "Introduction: Introduce the project, and your approach, talk about the process of how you came up with the metric and some alternatives you may have explored.\n",
    "\n",
    "The Metric: Describe your metric, and what features are you measuring. What datasets are you using?\n",
    "\n",
    "The Best Neighborhood: Apply the metric from the previous section to determine the best neighborhood in Pittsburgh. Beyond just executing code, provide a narrative about why you think this is the best neighborhood. Incorporate a data visualization, perhaps to rank all of the neighborhoods or show a neighborhood’s best-ness over time. The key is to make a data driven argument.\n",
    "\n",
    "Conclusion: Reflect on how the data-driven determination of “best neighborhood” is the same or different from your personal favorite neighborhood. Each member of the group should write their own response to this.\n"
   ]
  },
  {
   "cell_type": "markdown",
   "id": "937fa468",
   "metadata": {},
   "source": [
    "# Introduction\n",
    ">Our project was to combine together multiple datasets to find what we considered to be the \"best\" neighborhood in Pittsburgh. We first had to think of what being the \"best\" neighborhood mean't to us. We settled on the idea of the best neighborhood being the neighborhood where it would be the best to speed. John was quick to find a few datasets that would be related to traffic and road statistics and we ended up using almost all of our original datasets. We didn't explore any alternatives as we knew this idea would be good and easily supportable with our acquired datasets."
   ]
  },
  {
   "cell_type": "markdown",
   "id": "85240e46",
   "metadata": {},
   "source": [
    "# Metrics\n",
    "\n",
    "1. Number of Crosswalks in each neighborhood - Sarthak Khandelwal\n",
    "  - Lorem ipsum dolor sit amet, consectetur adipiscing elit. Morbi aliquam pretium ex, at eleifend diam lacinia quis. Aliquam vehicula justo eu interdum efficitur. Vestibulum sed eleifend mi. Donec non accumsan est. Integer finibus consectetur pulvinar. Sed ligula tellus, tincidunt id mauris at, eleifend sollicitudin lectus. Aenean vehicula bibendum eros quis egestas.\n",
    "2. Number of Speed Bumps in each neighborhood - John Serdy\n",
    "  - >Lorem ipsum dolor sit amet, consectetur adipiscing elit. Morbi aliquam pretium ex, at eleifend diam lacinia quis. Aliquam vehicula justo eu interdum efficitur. Vestibulum sed eleifend mi. Donec non accumsan est. Integer finibus consectetur pulvinar. Sed ligula tellus, tincidunt id mauris at, eleifend sollicitudin lectus. Aenean vehicula bibendum eros quis egestas.\n",
    "3. Number of Traffic Signs in each neighborhood - Leonard Aiken\n",
    "  > Lorem ipsum dolor sit amet, consectetur adipiscing elit. Morbi aliquam pretium ex, at eleifend diam lacinia quis. Aliquam vehicula justo eu interdum efficitur. Vestibulum sed eleifend mi. Donec non accumsan est. Integer finibus consectetur pulvinar. Sed ligula tellus, tincidunt id mauris at, eleifend sollicitudin lectus. Aenean vehicula bibendum eros quis egestas.\n",
    "4. Amount and Speed of Traffic in each neighborhood - Graham Cohick\n",
    "  >Lorem ipsum dolor sit amet, consectetur adipiscing elit. Morbi aliquam pretium ex, at eleifend diam lacinia quis. Aliquam vehicula justo eu interdum efficitur. Vestibulum sed eleifend mi. Donec non accumsan est. Integer finibus consectetur pulvinar. Sed ligula tellus, tincidunt id mauris at, eleifend sollicitudin lectus. Aenean vehicula bibendum eros quis egestas."
   ]
  },
  {
   "cell_type": "markdown",
   "id": "628eb5b0",
   "metadata": {},
   "source": [
    "# The Best Neighborhood\n",
    "Brookline."
   ]
  },
  {
   "cell_type": "markdown",
   "metadata": {},
   "source": [
    "# Conclusion\n"
   ]
  }
 ],
 "metadata": {
  "kernelspec": {
   "display_name": "Python 3",
   "language": "python",
   "name": "python3"
  },
  "language_info": {
   "codemirror_mode": {
    "name": "ipython",
    "version": 3
   },
   "file_extension": ".py",
   "mimetype": "text/x-python",
   "name": "python",
   "nbconvert_exporter": "python",
   "pygments_lexer": "ipython3",
   "version": "3.8"
  }
 },
 "nbformat": 4,
 "nbformat_minor": 5
}
