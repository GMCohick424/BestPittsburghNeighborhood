{
 "cells": [
  {
   "cell_type": "markdown",
   "id": "f02bb5de",
   "metadata": {},
   "source": [
    "Introduction: Introduce the project, and your approach, talk about the process of how you came up with the metric and some alternatives you may have explored.\n",
    "\n",
    "The Metric: Describe your metric, and what features are you measuring. What datasets are you using?\n",
    "\n",
    "The Best Neighborhood: Apply the metric from the previous section to determine the best neighborhood in Pittsburgh. Beyond just executing code, provide a narrative about why you think this is the best neighborhood. Incorporate a data visualization, perhaps to rank all of the neighborhoods or show a neighborhood’s best-ness over time. The key is to make a data driven argument.\n",
    "\n",
    "Conclusion: Reflect on how the data-driven determination of “best neighborhood” is the same or different from your personal favorite neighborhood. Each member of the group should write their own response to this.\n"
   ]
  },
  {
   "cell_type": "markdown",
   "id": "937fa468",
   "metadata": {},
   "source": [
    "# Introduction\n",
    ">Our project was to combine together multiple datasets to find what we considered to be the \"best\" neighborhood in Pittsburgh. We first had to think of what being the \"best\" neighborhood mean't to us. We settled on the idea of the best neighborhood being the neighborhood where it would be the best to speed. John was quick to find a few datasets that would be related to traffic and road statistics and we ended up using almost all of our original datasets. We didn't explore any alternatives as we knew this idea would be good and easily supportable with our acquired datasets."
   ]
  },
  {
   "cell_type": "markdown",
   "id": "85240e46",
   "metadata": {},
   "source": [
    "# Metrics\n",
    "\n",
    "1. Number of crosswalks in each neighborhood - Sarthak Khandelwal \n",
    "    > This metric is simple, it is the number of crosswalks in each neighborhood. The only features we measure from it our the number of crosswalks that appear in each neighborhood. This uses the [crosswalks](https://data.wprdc.org/dataset/city-of-pittsburgh-markings/resource/632fbb91-c55d-4221-a8ad-91c72902bc61) dataset.\n",
    "2. Number of speed bumps in each neighborhood - John Serdy\n",
    "    > This metric is also pretty simple, it is the number of speed bumps in each neighborhood. The features we measure are also just the number of speed bumps in each neighborhood. This uses the [speed bumps](https://data.wprdc.org/dataset/city-of-pittsburgh-speed-humps/resource/37b2ac41-ae8e-4de1-8405-157e05dc3640) dataset.\n",
    "3. Number of traffic signs in each neighborhood - Leonard Aiken\n",
    "    > This metric is pretty simple again since it is the number of traffic signs in each neighborhood. However, we only measure the amount of stop signs as they are the most important when considering the capability of speeding. This uses the [traffic signs](https://data.wprdc.org/dataset/city-traffic-signs/resource/d078a6b5-83a3-4723-a3a9-5371cfe1cc0c) dataset.\n",
    "4. Amount and speed of traffic in each neighborhood - Graham Cohick\n",
    "    > This metric is also simple as it is the speed and amount of traffic found in each neighborhood. We specifically measure the max speed, speed limit, and percent of the traffic over the speed limit. This uses the [traffic count](https://data.wprdc.org/dataset/traffic-count-data-city-of-pittsburgh/resource/6dfd4f8f-cbf5-4917-a5eb-fd07f4403167) dataset."
   ]
  },
  {
   "cell_type": "markdown",
   "id": "628eb5b0",
   "metadata": {},
   "source": [
    "# The Best Neighborhood\n",
    "Brookline."
   ]
  },
  {
   "cell_type": "markdown",
   "metadata": {},
   "source": [
    "# Conclusion\n"
   ]
  }
 ],
 "metadata": {
  "kernelspec": {
   "display_name": "Python 3",
   "language": "python",
   "name": "python3"
  },
  "language_info": {
   "codemirror_mode": {
    "name": "ipython",
    "version": 3
   },
   "file_extension": ".py",
   "mimetype": "text/x-python",
   "name": "python",
   "nbconvert_exporter": "python",
   "pygments_lexer": "ipython3",
   "version": "3.8"
  }
 },
 "nbformat": 4,
 "nbformat_minor": 5
}
